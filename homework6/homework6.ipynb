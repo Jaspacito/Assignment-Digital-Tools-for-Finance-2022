{
 "cells": [
  {
   "cell_type": "markdown",
   "metadata": {},
   "source": [
    "# Binance API\n",
    "## The root URL is: https://api.binance.com\n",
    "## The endpoint is: /api/v3/klines\n",
    "## Specify a request string to retrieve 75 observations of klines data for BTCUSDT since 2022-09-01: https://api.binance.com/api/v3/klines?symbol=BTCUSDT&interval=8h&startTime=1662036209&limit=75"
   ]
  },
  {
   "cell_type": "code",
   "execution_count": null,
   "metadata": {},
   "outputs": [],
   "source": [
    "## function to retrieves 75 observations of klines data for a generic currency pair since a generic date\n",
    "\n",
    "import requests\n",
    "import datetime\n",
    "import json\n",
    "import pandas as pd\n",
    "\n",
    "\n",
    "def get_klines(symbol,startTime):\n",
    "    \n",
    "    req = \"{root_url}/{endpoint}?symbol={symbol}&interval={interval}&startTime={startTime}&limit={limit}\"\\\n",
    "    .format(root_url=\"https://api.binance.com\",\n",
    "            endpoint=\"api/v3/klines\",\n",
    "            symbol=symbol,\n",
    "            interval=\"1h\",\n",
    "            startTime=startTime,\n",
    "            limit=\"75\")\n",
    "    resp = requests.get(req)\n",
    "    data = pd.DataFrame.from_records(\n",
    "        resp.json()[\"result\"][\"{symbol}\"],\n",
    "        columns=[\"Open\", \"High\", \"Low\", \"Close\"])\n",
    "    data.index = data.pop(\"time\").map(datetime.datetime.fromtimestamp)\n",
    "    \n",
    "    return data\n",
    "\n",
    "get_klines(\"BTCUSDT\",\"1662036209\")"
   ]
  },
  {
   "cell_type": "markdown",
   "metadata": {},
   "source": [
    "# FRED API\n",
    "## The root URL is: https://api.stlouisfed.org\n",
    "## The endpoint to retrieve time series observations is: /fred/series/observations\n",
    "## The query string to retrieve the series of the monthly unemployment rate (seasonally adjusted) since 2020-01 with fake API key abc123: https://api.stlouisfed.org/fred/series/observations?api_key=abc123&series_id=UNRATE&observation_start=2020-01-01&frequency=m&file_type=json\n"
   ]
  }
 ],
 "metadata": {
  "kernelspec": {
   "display_name": "Python 2.7.17 64-bit",
   "language": "python",
   "name": "python3"
  },
  "language_info": {
   "codemirror_mode": {
    "name": "ipython",
    "version": 2
   },
   "file_extension": ".py",
   "mimetype": "text/x-python",
   "name": "python",
   "nbconvert_exporter": "python",
   "pygments_lexer": "ipython2",
   "version": "2.7.17"
  },
  "orig_nbformat": 4,
  "vscode": {
   "interpreter": {
    "hash": "949777d72b0d2535278d3dc13498b2535136f6dfe0678499012e853ee9abcab1"
   }
  }
 },
 "nbformat": 4,
 "nbformat_minor": 2
}
